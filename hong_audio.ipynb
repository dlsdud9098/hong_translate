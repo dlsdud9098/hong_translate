{
 "cells": [
  {
   "cell_type": "code",
   "execution_count": 81,
   "metadata": {},
   "outputs": [],
   "source": [
    "\n",
    "from pyannote.audio import Pipeline\n",
    "from glob import glob\n",
    "import os\n",
    "from pydub import AudioSegment\n",
    "from tqdm import tqdm\n",
    "\n",
    "# 토큰 가져오기\n",
    "with open('./token.txt', encoding='utf-8') as f:\n",
    "    use_auth_token = f.read()"
   ]
  },
  {
   "cell_type": "code",
   "execution_count": 59,
   "metadata": {},
   "outputs": [
    {
     "data": {
      "text/plain": [
       "['./downloaded_audio (사본)/#1-1 콩진호의 파이널 해설 Jinho Hong comments on his play of APT TAIWAN 2019 ｜ 홍진호.wav',\n",
       " './downloaded_audio (사본)/#1-2. 콩진호의 파이널 해설 Jinho Hong comments on his play of APT TAIWAN 2019 ｜ 홍진호.wav',\n",
       " './downloaded_audio (사본)/#1-3. 콩진호의 파이널 해설 Jinho Hong comments on his play of APT TAIWAN 2019 ｜ 홍진호.wav',\n",
       " './downloaded_audio (사본)/#1-4. 콩진호의 파이널 해설 Jinho Hong comments on his play of APT TAIWAN 2019 ｜ 홍진호.wav',\n",
       " './downloaded_audio (사본)/2023 콩콩절 홍진호의 인터뷰.wav',\n",
       " './downloaded_audio (사본)/40대 홍진호는 신조어를 얼마나 알까？.wav',\n",
       " './downloaded_audio (사본)/[FULL] 2로 2등이 결정된다고？？？ Jinho Hong Comments on his play, APT Taiwan 2019 Main Event.wav',\n",
       " './downloaded_audio (사본)/[vlog] #00 ： 안녕하세요, 저는 지금 마닐라입니다  ｜ 홍진호.wav',\n",
       " './downloaded_audio (사본)/[vlog] #01 ： 1등입니다 ｜ 홍진호.wav',\n",
       " './downloaded_audio (사본)/[vlog] #02 ： 우승논란(？) 해명하겠습니다 ｜ 홍진호.wav',\n",
       " './downloaded_audio (사본)/[vlog] #03 ： 죄송합니다... 2등을 숨겼습니다... ｜ 홍진호.wav',\n",
       " './downloaded_audio (사본)/[vlog] 이런거라도 올리는게 낫지않겠ㄴㅇ~~.wav',\n",
       " './downloaded_audio (사본)/[골라봐야지] 발음이 안 좋아도 괜찮아, 추리는 최고니까☆ 홍진호 발음 모음ㅣ크라임씬ㅣJTBC 170714 방송 외.wav',\n",
       " './downloaded_audio (사본)/[더스테이지] 촬영현장 뒷이야기&인터뷰 (홍진호, 신사임당, 승우아빠, 슈카, 꽈뚜룹, 공혁준, 논리왕전기).wav',\n",
       " './downloaded_audio (사본)/[라디오스타] 알고 보면 서바이벌계 초대 대통령😎 항상 진실된 플레이를 하는 홍진호, MBC 250226 방송.wav',\n",
       " './downloaded_audio (사본)/[속보] 홍진호 ＂ 내가 임요환보다 위다 ＂ 인터뷰 feat. PSG BMW.wav',\n",
       " './downloaded_audio (사본)/[피의 게임3] 릴레이 지목 인터뷰🎤 - 홍진호.wav',\n",
       " \"./downloaded_audio (사본)/댄싱머신 홍진호의 '한단어 인터뷰' 나도궁금해!.wav\",\n",
       " './downloaded_audio (사본)/맹승지의 똘직구 인터뷰 홍진호편.wav',\n",
       " './downloaded_audio (사본)/배텐 막방 녹음 메이킹필름 (with 배텐식구들).wav',\n",
       " './downloaded_audio (사본)/포커 신들의전쟁[EP.1] 리뷰&비하인드 썰(feat.김갑용).wav',\n",
       " './downloaded_audio (사본)/포커 신들의전쟁[EP.2] 리뷰&비하인드 썰(feat.김갑용).wav',\n",
       " './downloaded_audio (사본)/폭풍저그 홍진호가 저그유닛을 직접 만난다면？.wav',\n",
       " './downloaded_audio (사본)/홍진호씨 콩진호가 아니고 홍진호입니다 ㅋㅋ.wav',\n",
       " './downloaded_audio (사본)/홍진호의 MBTI 성격유형은？ (with 홍진호의 TMI).wav']"
      ]
     },
     "execution_count": 59,
     "metadata": {},
     "output_type": "execute_result"
    }
   ],
   "source": [
    "# 음성 파일 이름 변경\n",
    "# audio_list = sorted(glob('./downloaded_audio/*'))\n",
    "audio_list = sorted(glob('./downloaded_audio (사본)/*'))\n",
    "audio_list\n",
    "\n",
    "# for idx, audio in enumerate(audio_list):\n",
    "#     original_name = f\"./downloaded_audio/{os.path.basename(audio)}\"\n",
    "#     new_name = f'./downloaded_audio/{idx + 1}.wav'\n",
    "    \n",
    "#     os.rename(original_name, new_name)"
   ]
  },
  {
   "cell_type": "code",
   "execution_count": null,
   "metadata": {},
   "outputs": [],
   "source": [
    "\n",
    "pipeline = Pipeline.from_pretrained(\"pyannote/speaker-diarization-3.1\", use_auth_token=use_auth_token)\n",
    "\n",
    "diarization = pipeline(\"./downloaded_audio(사본)/[골라봐야지] 발음이 안 좋아도 괜찮아, 추리는 최고니까☆ 홍진호 발음 모음ㅣ크라임씬ㅣJTBC 170714 방송 외.wav\")\n",
    "for turn, _, speaker in diarization.itertracks(yield_label=True):\n",
    "    print(f\"{turn.start:.1f} --> {turn.end:.1f} {speaker}\")"
   ]
  },
  {
   "cell_type": "code",
   "execution_count": null,
   "metadata": {},
   "outputs": [],
   "source": [
    "from pyannote.audio import Pipeline\n",
    "\n",
    "pipeline = Pipeline.from_pretrained(\"pyannote/speaker-diarization-3.1\",use_auth_token=use_auth_token)\n",
    "\n",
    "# inference on the whole file\n",
    "pipeline(\"./downloaded_audio(사본)/[골라봐야지] 발음이 안 좋아도 괜찮아, 추리는 최고니까☆ 홍진호 발음 모음ㅣ크라임씬ㅣJTBC 170714 방송 외.wav\")\n",
    "\n",
    "# inference on an excerpt\n",
    "from pyannote.core import Segment\n",
    "excerpt = Segment(start=2.0, end=5.0)\n",
    "\n",
    "from pyannote.audio import Audio\n",
    "waveform, sample_rate = Audio().crop(\"file.wav\", excerpt)\n",
    "pipeline({\"waveform\": waveform, \"sample_rate\": sample_rate})"
   ]
  },
  {
   "cell_type": "code",
   "execution_count": 7,
   "metadata": {},
   "outputs": [
    {
     "name": "stderr",
     "output_type": "stream",
     "text": [
      "/home/apic/miniconda3/envs/hong_venv/lib/python3.11/site-packages/pyannote/audio/utils/reproducibility.py:74: ReproducibilityWarning: TensorFloat-32 (TF32) has been disabled as it might lead to reproducibility issues and lower accuracy.\n",
      "It can be re-enabled by calling\n",
      "   >>> import torch\n",
      "   >>> torch.backends.cuda.matmul.allow_tf32 = True\n",
      "   >>> torch.backends.cudnn.allow_tf32 = True\n",
      "See https://github.com/pyannote/pyannote-audio/issues/1370 for more details.\n",
      "\n",
      "  warnings.warn(\n",
      "/home/apic/miniconda3/envs/hong_venv/lib/python3.11/site-packages/pyannote/audio/models/blocks/pooling.py:104: UserWarning: std(): degrees of freedom is <= 0. Correction should be strictly less than the reduction factor (input numel divided by output numel). (Triggered internally at /pytorch/aten/src/ATen/native/ReduceOps.cpp:1831.)\n",
      "  std = sequences.std(dim=-1, correction=1)\n"
     ]
    }
   ],
   "source": [
    "# instantiate the pipeline\n",
    "from pyannote.audio import Pipeline\n",
    "import torch\n",
    "\n",
    "\n",
    "pipeline = Pipeline.from_pretrained(\n",
    "  \"pyannote/speaker-diarization-3.1\",\n",
    "  use_auth_token = use_auth_token\n",
    "  )\n",
    "\n",
    "pipeline.to(torch.device(\"cuda\")) # GPU 사용하기\n",
    "\n",
    "# run the pipeline on an audio file\n",
    "diarization = pipeline(\"./downloaded_audio/1.wav\")\n",
    "\n",
    "# dump the diarization output to disk using RTTM format\n",
    "with open(\"audio.rttm\", \"w\") as rttm:\n",
    "    diarization.write_rttm(rttm)\n"
   ]
  },
  {
   "cell_type": "code",
   "execution_count": 68,
   "metadata": {},
   "outputs": [
    {
     "name": "stdout",
     "output_type": "stream",
     "text": [
      "5093 6241 SPEAKER_00\n",
      "8350 8890 SPEAKER_00\n",
      "9346 36160 SPEAKER_00\n",
      "36397 48429 SPEAKER_00\n",
      "48901 50251 SPEAKER_00\n",
      "50504 54807 SPEAKER_00\n",
      "55246 59313 SPEAKER_00\n",
      "59701 61186 SPEAKER_00\n",
      "61388 63429 SPEAKER_00\n",
      "63835 64729 SPEAKER_00\n",
      "65303 67294 SPEAKER_00\n",
      "67902 69826 SPEAKER_00\n",
      "69910 70787 SPEAKER_00\n",
      "71108 76441 SPEAKER_00\n",
      "76762 82972 SPEAKER_00\n",
      "77015 77201 SPEAKER_01\n",
      "83343 85115 SPEAKER_00\n",
      "85553 88962 SPEAKER_00\n",
      "89215 94834 SPEAKER_00\n",
      "95324 98277 SPEAKER_00\n",
      "98800 103744 SPEAKER_00\n",
      "104234 105550 SPEAKER_00\n",
      "106327 107711 SPEAKER_00\n",
      "108250 109381 SPEAKER_00\n",
      "110073 111879 SPEAKER_00\n",
      "112688 114527 SPEAKER_00\n",
      "114747 115439 SPEAKER_00\n",
      "116063 117109 SPEAKER_00\n",
      "117683 118510 SPEAKER_00\n",
      "120468 121700 SPEAKER_00\n",
      "124096 125530 SPEAKER_00\n",
      "126627 128314 SPEAKER_00\n",
      "129850 130542 SPEAKER_00\n",
      "130846 132365 SPEAKER_00\n",
      "132702 135081 SPEAKER_00\n",
      "135318 140380 SPEAKER_00\n",
      "140819 143013 SPEAKER_00\n",
      "145004 147502 SPEAKER_00\n",
      "147805 149357 SPEAKER_00\n",
      "149763 150927 SPEAKER_00\n",
      "151535 158555 SPEAKER_00\n",
      "159196 162520 SPEAKER_00\n",
      "163313 166857 SPEAKER_00\n",
      "167245 168595 SPEAKER_00\n",
      "169169 170587 SPEAKER_00\n",
      "172865 174755 SPEAKER_00\n",
      "175312 178029 SPEAKER_00\n",
      "178366 179969 SPEAKER_00\n",
      "180172 180645 SPEAKER_00\n",
      "180982 182433 SPEAKER_00\n",
      "183108 183985 SPEAKER_00\n",
      "184390 190229 SPEAKER_00\n",
      "184660 185234 SPEAKER_01\n",
      "190617 197839 SPEAKER_00\n",
      "198413 199139 SPEAKER_00\n",
      "199983 206007 SPEAKER_00\n",
      "207104 207880 SPEAKER_00\n",
      "208420 211188 SPEAKER_00\n",
      "211745 212555 SPEAKER_00\n",
      "213230 214884 SPEAKER_00\n",
      "217938 219204 SPEAKER_00\n",
      "220823 221734 SPEAKER_00\n",
      "222730 223270 SPEAKER_00\n",
      "223608 224637 SPEAKER_00\n",
      "225987 228535 SPEAKER_00\n",
      "230155 231016 SPEAKER_00\n",
      "231202 232586 SPEAKER_00\n",
      "235015 235842 SPEAKER_00\n",
      "236568 237378 SPEAKER_00\n",
      "242693 244127 SPEAKER_00\n",
      "245579 246878 SPEAKER_00\n",
      "247604 252886 SPEAKER_00\n",
      "253544 255788 SPEAKER_00\n",
      "256278 257257 SPEAKER_00\n",
      "257728 262993 SPEAKER_00\n",
      "263517 271583 SPEAKER_00\n",
      "271904 274942 SPEAKER_00\n",
      "275245 285252 SPEAKER_00\n",
      "285488 288542 SPEAKER_00\n",
      "288847 290619 SPEAKER_00\n",
      "291445 296997 SPEAKER_00\n",
      "299360 316640 SPEAKER_00\n",
      "317517 318918 SPEAKER_00\n",
      "319643 321584 SPEAKER_00\n",
      "324672 325145 SPEAKER_00\n",
      "325685 327238 SPEAKER_00\n",
      "327490 328216 SPEAKER_00\n",
      "329549 331270 SPEAKER_00\n",
      "331912 333279 SPEAKER_00\n",
      "335759 336434 SPEAKER_00\n",
      "339269 340028 SPEAKER_00\n",
      "340231 341480 SPEAKER_00\n",
      "341868 342948 SPEAKER_00\n",
      "343235 344838 SPEAKER_00\n",
      "345260 347369 SPEAKER_00\n",
      "350322 351571 SPEAKER_00\n",
      "354558 356870 SPEAKER_00\n",
      "357595 358489 SPEAKER_00\n",
      "361122 363080 SPEAKER_00\n",
      "364379 366471 SPEAKER_00\n",
      "366792 370184 SPEAKER_00\n",
      "370808 375314 SPEAKER_00\n",
      "375955 376124 SPEAKER_00\n",
      "377221 380005 SPEAKER_00\n",
      "380630 382031 SPEAKER_00\n",
      "382672 391430 SPEAKER_00\n",
      "391801 397741 SPEAKER_00\n",
      "398433 400964 SPEAKER_00\n"
     ]
    }
   ],
   "source": [
    "# 오디오 시간대 분리하기\n",
    "with open('./audio.rttm', 'r') as f:\n",
    "    audio_file = f.read()\n",
    "\n",
    "audio_start = []\n",
    "audio_end = []\n",
    "speakers = []\n",
    "\n",
    "for row in audio_file.split('\\n')[:-1]:\n",
    "    start = int(float(row.split(' ')[3]) * 1000)\n",
    "    end = int(float(row.split(' ')[4]) * 1000)\n",
    "    \n",
    "    audio_start.append(start)\n",
    "    audio_end.append(start+end)\n",
    "    speakers.append(row.split(' ')[7])\n",
    "    \n",
    "for start, end, speaker in zip(audio_start, audio_end, speakers):\n",
    "    print(start, end, speaker)"
   ]
  },
  {
   "cell_type": "code",
   "execution_count": null,
   "metadata": {},
   "outputs": [
    {
     "data": {
      "text/plain": [
       "'1.wav'"
      ]
     },
     "execution_count": 71,
     "metadata": {},
     "output_type": "execute_result"
    }
   ],
   "source": [
    "\n",
    "sound = AudioSegment.from_file(\"./downloaded_audio/1.wav\")  # 오디오 불러오기\n",
    "\n"
   ]
  },
  {
   "cell_type": "code",
   "execution_count": null,
   "metadata": {},
   "outputs": [
    {
     "data": {
      "text/plain": [
       "<_io.BufferedRandom name='combined_example.wav'>"
      ]
     },
     "execution_count": 69,
     "metadata": {},
     "output_type": "execute_result"
    }
   ],
   "source": [
    "for start, end, speaker in zip(audio_start, audio_end, speakers):\n",
    "    pass\n",
    "    \n",
    "    # print(start, end)\n",
    "new_audio = sound[start: end]\n",
    "\n",
    "# print(start, end)\n",
    "new_audio.export(\"combined_example.wav\", format=\"wav\")"
   ]
  },
  {
   "cell_type": "code",
   "execution_count": null,
   "metadata": {},
   "outputs": [
    {
     "name": "stderr",
     "output_type": "stream",
     "text": [
      " /home/apic/miniconda3/envs/hong_venv/lib/python3.11/site-packages/pyannote/audio/models/blocks/pooling.py:104: UserWarning: std(): degrees of freedom is <= 0. Correction should be strictly less than the reduction factor (input numel divided by output numel). (Triggered internally at /pytorch/aten/src/ATen/native/ReduceOps.cpp:1831.)\n",
      "  std = sequences.std(dim=-1, correction=1)\n",
      "1\n"
     ]
    }
   ],
   "source": [
    "# 코드 합치기\n",
    "audio_files =sorted(glob('./downloaded_audio/*.wav'))\n",
    "\n",
    "pipeline = Pipeline.from_pretrained(\n",
    "    \"pyannote/speaker-diarization-3.1\",\n",
    "    use_auth_token = use_auth_token\n",
    "    )\n",
    "\n",
    "pipeline.to(torch.device(\"cuda\")) # GPU 사용하기\n",
    "\n",
    "for file in audio_files:\n",
    "    folder = f'./new_audio/{os.path.basename(file).split(\".\")[0]}' # 폴더 만들기\n",
    "    \n",
    "    if not os.path.exists(folder):\n",
    "        os.makedirs(folder)\n",
    "    sound = AudioSegment.from_file(file)  # 오디오 불러오기\n",
    "\n",
    "    # run the pipeline on an audio file\n",
    "    diarization = pipeline(file)\n",
    "    for idx, (turn, _, speaker) in enumerate(diarization.itertracks(yield_label=True)):\n",
    "        start = int(round(turn.start, 1) * 1000)\n",
    "        end = int(round(turn.start, 1) * 1000)\n",
    "        \n",
    "        new_audio = sound[start: end]   # 오디오 자르기\n",
    "        # 오디오 저장\n",
    "        new_audio.export(f\"{folder}/{os.path.basename(file).split('.')[0]}_{idx}.wav\", format=\"wav\")\n"
   ]
  }
 ],
 "metadata": {
  "kernelspec": {
   "display_name": "hong_venv",
   "language": "python",
   "name": "python3"
  },
  "language_info": {
   "codemirror_mode": {
    "name": "ipython",
    "version": 3
   },
   "file_extension": ".py",
   "mimetype": "text/x-python",
   "name": "python",
   "nbconvert_exporter": "python",
   "pygments_lexer": "ipython3",
   "version": "3.11.11"
  }
 },
 "nbformat": 4,
 "nbformat_minor": 2
}
