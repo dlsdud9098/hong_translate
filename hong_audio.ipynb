{
 "cells": [
  {
   "cell_type": "code",
   "execution_count": null,
   "metadata": {},
   "outputs": [],
   "source": [
    "from pyannote.audio import Pipeline\n",
    "from glob import glob\n",
    "import os\n",
    "\n",
    "# 토큰 가져오기\n",
    "with open('./token.txt', encoding='utf-8') as f:\n",
    "    use_auth_token = f.read()"
   ]
  },
  {
   "cell_type": "code",
   "execution_count": null,
   "metadata": {},
   "outputs": [],
   "source": [
    "# 음성 파일 이름 변경\n",
    "audio_list = sorted(glob('./downloaded_audio/*'))\n",
    "\n",
    "for idx, audio in enumerate(audio_list):\n",
    "    original_name = f\"./downloaded_audio/{os.path.basename(audio)}\"\n",
    "    new_name = f'./downloaded_audio/{idx + 1}.wav'\n",
    "    \n",
    "    os.rename(original_name, new_name)"
   ]
  },
  {
   "cell_type": "code",
   "execution_count": null,
   "metadata": {},
   "outputs": [],
   "source": [
    "\n",
    "pipeline = Pipeline.from_pretrained(\"pyannote/speaker-diarization-3.1\", use_auth_token=use_auth_token)\n",
    "\n",
    "diarization = pipeline(\"./downloaded_audio(사본)/[골라봐야지] 발음이 안 좋아도 괜찮아, 추리는 최고니까☆ 홍진호 발음 모음ㅣ크라임씬ㅣJTBC 170714 방송 외.wav\")\n",
    "for turn, _, speaker in diarization.itertracks(yield_label=True):\n",
    "    print(f\"{turn.start:.1f} --> {turn.end:.1f} {speaker}\")"
   ]
  },
  {
   "cell_type": "code",
   "execution_count": null,
   "metadata": {},
   "outputs": [],
   "source": [
    "from pyannote.audio import Pipeline\n",
    "\n",
    "pipeline = Pipeline.from_pretrained(\"pyannote/speaker-diarization-3.1\",use_auth_token=use_auth_token)\n",
    "\n",
    "# inference on the whole file\n",
    "pipeline(\"./downloaded_audio(사본)/[골라봐야지] 발음이 안 좋아도 괜찮아, 추리는 최고니까☆ 홍진호 발음 모음ㅣ크라임씬ㅣJTBC 170714 방송 외.wav\")\n",
    "\n",
    "# inference on an excerpt\n",
    "from pyannote.core import Segment\n",
    "excerpt = Segment(start=2.0, end=5.0)\n",
    "\n",
    "from pyannote.audio import Audio\n",
    "waveform, sample_rate = Audio().crop(\"file.wav\", excerpt)\n",
    "pipeline({\"waveform\": waveform, \"sample_rate\": sample_rate})"
   ]
  },
  {
   "cell_type": "code",
   "execution_count": null,
   "metadata": {},
   "outputs": [],
   "source": [
    "# instantiate the pipeline\n",
    "from pyannote.audio import Pipeline\n",
    "\n",
    "pipeline = Pipeline.from_pretrained(\n",
    "  \"pyannote/speaker-diarization-3.1\",\n",
    "  use_auth_token = use_auth_token\n",
    "  )\n",
    "\n",
    "# run the pipeline on an audio file\n",
    "diarization = pipeline(\"./downloaded_audio/1.wav\")\n",
    "\n",
    "# dump the diarization output to disk using RTTM format\n",
    "with open(\"audio.rttm\", \"w\") as rttm:\n",
    "    diarization.write_rttm(rttm)\n"
   ]
  },
  {
   "cell_type": "code",
   "execution_count": 29,
   "metadata": {},
   "outputs": [
    {
     "name": "stdout",
     "output_type": "stream",
     "text": [
      "2\n"
     ]
    }
   ],
   "source": [
    "print(2)"
   ]
  }
 ],
 "metadata": {
  "kernelspec": {
   "display_name": "hong_venv",
   "language": "python",
   "name": "python3"
  },
  "language_info": {
   "codemirror_mode": {
    "name": "ipython",
    "version": 3
   },
   "file_extension": ".py",
   "mimetype": "text/x-python",
   "name": "python",
   "nbconvert_exporter": "python",
   "pygments_lexer": "ipython3",
   "version": "3.11.11"
  }
 },
 "nbformat": 4,
 "nbformat_minor": 2
}
